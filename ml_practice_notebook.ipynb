{
 "cells": [
  {
   "cell_type": "code",
   "execution_count": 1,
   "id": "658169e7-6982-4760-b068-bc126b265f29",
   "metadata": {},
   "outputs": [],
   "source": [
    "import pandas as pd\n",
    "import seaborn as sns"
   ]
  },
  {
   "cell_type": "markdown",
   "id": "0b558f4c-5925-47f7-bfd1-c5e4f425c836",
   "metadata": {},
   "source": [
    "Machine learning step one: load your data do EDA and make sure all is what you expect. This can include:\n",
    "- checking your features for NaNs and removing or imputing the data.\n",
    "- understanding the types of data you are working with and the shape of your data .info(), .describe() and .shape are useful for this\n",
    "- One hot encode your data if you are planning on working with linear models or other models that would benefit from transforming categorical variables into numeric variables.\n",
    "\n",
    "- NOTE: Data exploration can be time consuming and it can take quite a while to clean your data and to decide what type of ML algorithm you need to use. It is ok! :-)"
   ]
  },
  {
   "cell_type": "markdown",
   "id": "727574f4-5f54-4679-be74-134e448a566a",
   "metadata": {},
   "source": [
    "# Linear Regression"
   ]
  },
  {
   "cell_type": "code",
   "execution_count": null,
   "id": "49bf2251-4097-454b-ae56-1d583c653428",
   "metadata": {},
   "outputs": [],
   "source": []
  }
 ],
 "metadata": {
  "kernelspec": {
   "display_name": "Python 3 (ipykernel)",
   "language": "python",
   "name": "python3"
  },
  "language_info": {
   "codemirror_mode": {
    "name": "ipython",
    "version": 3
   },
   "file_extension": ".py",
   "mimetype": "text/x-python",
   "name": "python",
   "nbconvert_exporter": "python",
   "pygments_lexer": "ipython3",
   "version": "3.11.5"
  }
 },
 "nbformat": 4,
 "nbformat_minor": 5
}
