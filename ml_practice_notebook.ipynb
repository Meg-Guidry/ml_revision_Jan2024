{
 "cells": [
  {
   "cell_type": "code",
   "execution_count": 1,
   "id": "658169e7-6982-4760-b068-bc126b265f29",
   "metadata": {},
   "outputs": [],
   "source": [
    "import pandas as pd\n",
    "import seaborn as sns"
   ]
  },
  {
   "cell_type": "markdown",
   "id": "0b558f4c-5925-47f7-bfd1-c5e4f425c836",
   "metadata": {},
   "source": [
    "Machine learning step one: load your data do EDA and make sure all is what you expect. This can include:\n",
    "- checking your features for NaNs and removing or imputing the data.\n",
    "- understanding the types of data you are working with and the shape of your data .info(), .describe() and .shape are useful for this\n",
    "- One hot encode your data if you are planning on working with linear models or other models that would benefit from transforming categorical variables into numeric variables.\n",
    "\n",
    "- NOTE: Data exploration can be time consuming and it can take quite a while to clean your data and to decide what type of ML algorithm you need to use. It is ok! :-)"
   ]
  },
  {
   "cell_type": "markdown",
   "id": "727574f4-5f54-4679-be74-134e448a566a",
   "metadata": {},
   "source": [
    "# Linear Regression"
   ]
  },
  {
   "cell_type": "code",
   "execution_count": 46,
   "id": "49bf2251-4097-454b-ae56-1d583c653428",
   "metadata": {},
   "outputs": [],
   "source": [
    "linear_data = pd.read_csv(\"./ml-linear-regression-Meg-Guidry/data/insurance.csv\")"
   ]
  },
  {
   "cell_type": "code",
   "execution_count": 47,
   "id": "c2099e81-2c3c-44af-9b86-9f62bd176246",
   "metadata": {},
   "outputs": [
    {
     "data": {
      "text/html": [
       "<div>\n",
       "<style scoped>\n",
       "    .dataframe tbody tr th:only-of-type {\n",
       "        vertical-align: middle;\n",
       "    }\n",
       "\n",
       "    .dataframe tbody tr th {\n",
       "        vertical-align: top;\n",
       "    }\n",
       "\n",
       "    .dataframe thead th {\n",
       "        text-align: right;\n",
       "    }\n",
       "</style>\n",
       "<table border=\"1\" class=\"dataframe\">\n",
       "  <thead>\n",
       "    <tr style=\"text-align: right;\">\n",
       "      <th></th>\n",
       "      <th>age</th>\n",
       "      <th>sex</th>\n",
       "      <th>bmi</th>\n",
       "      <th>children</th>\n",
       "      <th>smoker</th>\n",
       "      <th>region</th>\n",
       "      <th>charges</th>\n",
       "    </tr>\n",
       "  </thead>\n",
       "  <tbody>\n",
       "    <tr>\n",
       "      <th>0</th>\n",
       "      <td>19</td>\n",
       "      <td>female</td>\n",
       "      <td>27.900</td>\n",
       "      <td>0</td>\n",
       "      <td>yes</td>\n",
       "      <td>southwest</td>\n",
       "      <td>16884.92400</td>\n",
       "    </tr>\n",
       "    <tr>\n",
       "      <th>1</th>\n",
       "      <td>18</td>\n",
       "      <td>male</td>\n",
       "      <td>33.770</td>\n",
       "      <td>1</td>\n",
       "      <td>no</td>\n",
       "      <td>southeast</td>\n",
       "      <td>1725.55230</td>\n",
       "    </tr>\n",
       "    <tr>\n",
       "      <th>2</th>\n",
       "      <td>28</td>\n",
       "      <td>male</td>\n",
       "      <td>33.000</td>\n",
       "      <td>3</td>\n",
       "      <td>no</td>\n",
       "      <td>southeast</td>\n",
       "      <td>4449.46200</td>\n",
       "    </tr>\n",
       "    <tr>\n",
       "      <th>3</th>\n",
       "      <td>33</td>\n",
       "      <td>male</td>\n",
       "      <td>22.705</td>\n",
       "      <td>0</td>\n",
       "      <td>no</td>\n",
       "      <td>northwest</td>\n",
       "      <td>21984.47061</td>\n",
       "    </tr>\n",
       "    <tr>\n",
       "      <th>4</th>\n",
       "      <td>32</td>\n",
       "      <td>male</td>\n",
       "      <td>28.880</td>\n",
       "      <td>0</td>\n",
       "      <td>no</td>\n",
       "      <td>northwest</td>\n",
       "      <td>3866.85520</td>\n",
       "    </tr>\n",
       "  </tbody>\n",
       "</table>\n",
       "</div>"
      ],
      "text/plain": [
       "   age     sex     bmi  children smoker     region      charges\n",
       "0   19  female  27.900         0    yes  southwest  16884.92400\n",
       "1   18    male  33.770         1     no  southeast   1725.55230\n",
       "2   28    male  33.000         3     no  southeast   4449.46200\n",
       "3   33    male  22.705         0     no  northwest  21984.47061\n",
       "4   32    male  28.880         0     no  northwest   3866.85520"
      ]
     },
     "execution_count": 47,
     "metadata": {},
     "output_type": "execute_result"
    }
   ],
   "source": [
    "# Now lets make sure the data looks like we expet it to:\n",
    "linear_data.head()"
   ]
  },
  {
   "cell_type": "code",
   "execution_count": 48,
   "id": "31f1a399-9fd5-4a32-971b-00ec8e2d1fc7",
   "metadata": {},
   "outputs": [
    {
     "name": "stdout",
     "output_type": "stream",
     "text": [
      "<class 'pandas.core.frame.DataFrame'>\n",
      "RangeIndex: 1338 entries, 0 to 1337\n",
      "Data columns (total 7 columns):\n",
      " #   Column    Non-Null Count  Dtype  \n",
      "---  ------    --------------  -----  \n",
      " 0   age       1338 non-null   int64  \n",
      " 1   sex       1338 non-null   object \n",
      " 2   bmi       1338 non-null   float64\n",
      " 3   children  1338 non-null   int64  \n",
      " 4   smoker    1338 non-null   object \n",
      " 5   region    1338 non-null   object \n",
      " 6   charges   1338 non-null   float64\n",
      "dtypes: float64(2), int64(2), object(3)\n",
      "memory usage: 73.3+ KB\n"
     ]
    }
   ],
   "source": [
    "# Now lets check to see what types of data we are working with and if any of the columns have NaN values:\n",
    "linear_data.info()"
   ]
  },
  {
   "cell_type": "code",
   "execution_count": 49,
   "id": "3d3f4d06-1ae2-4ec6-94a4-f2e74033ef38",
   "metadata": {},
   "outputs": [
    {
     "data": {
      "text/plain": [
       "age         0\n",
       "sex         0\n",
       "bmi         0\n",
       "children    0\n",
       "smoker      0\n",
       "region      0\n",
       "charges     0\n",
       "dtype: int64"
      ]
     },
     "execution_count": 49,
     "metadata": {},
     "output_type": "execute_result"
    }
   ],
   "source": [
    "# Check to see if we have any NaN values in our dataframe:\n",
    "linear_data.isna().sum()"
   ]
  },
  {
   "cell_type": "code",
   "execution_count": 50,
   "id": "f0aa5202-c71c-4859-b839-159f3fb26e92",
   "metadata": {},
   "outputs": [
    {
     "data": {
      "text/html": [
       "<div>\n",
       "<style scoped>\n",
       "    .dataframe tbody tr th:only-of-type {\n",
       "        vertical-align: middle;\n",
       "    }\n",
       "\n",
       "    .dataframe tbody tr th {\n",
       "        vertical-align: top;\n",
       "    }\n",
       "\n",
       "    .dataframe thead th {\n",
       "        text-align: right;\n",
       "    }\n",
       "</style>\n",
       "<table border=\"1\" class=\"dataframe\">\n",
       "  <thead>\n",
       "    <tr style=\"text-align: right;\">\n",
       "      <th></th>\n",
       "      <th>age</th>\n",
       "      <th>bmi</th>\n",
       "      <th>children</th>\n",
       "      <th>charges</th>\n",
       "    </tr>\n",
       "  </thead>\n",
       "  <tbody>\n",
       "    <tr>\n",
       "      <th>count</th>\n",
       "      <td>1338.000000</td>\n",
       "      <td>1338.000000</td>\n",
       "      <td>1338.000000</td>\n",
       "      <td>1338.000000</td>\n",
       "    </tr>\n",
       "    <tr>\n",
       "      <th>mean</th>\n",
       "      <td>39.207025</td>\n",
       "      <td>30.663397</td>\n",
       "      <td>1.094918</td>\n",
       "      <td>13270.422265</td>\n",
       "    </tr>\n",
       "    <tr>\n",
       "      <th>std</th>\n",
       "      <td>14.049960</td>\n",
       "      <td>6.098187</td>\n",
       "      <td>1.205493</td>\n",
       "      <td>12110.011237</td>\n",
       "    </tr>\n",
       "    <tr>\n",
       "      <th>min</th>\n",
       "      <td>18.000000</td>\n",
       "      <td>15.960000</td>\n",
       "      <td>0.000000</td>\n",
       "      <td>1121.873900</td>\n",
       "    </tr>\n",
       "    <tr>\n",
       "      <th>25%</th>\n",
       "      <td>27.000000</td>\n",
       "      <td>26.296250</td>\n",
       "      <td>0.000000</td>\n",
       "      <td>4740.287150</td>\n",
       "    </tr>\n",
       "    <tr>\n",
       "      <th>50%</th>\n",
       "      <td>39.000000</td>\n",
       "      <td>30.400000</td>\n",
       "      <td>1.000000</td>\n",
       "      <td>9382.033000</td>\n",
       "    </tr>\n",
       "    <tr>\n",
       "      <th>75%</th>\n",
       "      <td>51.000000</td>\n",
       "      <td>34.693750</td>\n",
       "      <td>2.000000</td>\n",
       "      <td>16639.912515</td>\n",
       "    </tr>\n",
       "    <tr>\n",
       "      <th>max</th>\n",
       "      <td>64.000000</td>\n",
       "      <td>53.130000</td>\n",
       "      <td>5.000000</td>\n",
       "      <td>63770.428010</td>\n",
       "    </tr>\n",
       "  </tbody>\n",
       "</table>\n",
       "</div>"
      ],
      "text/plain": [
       "               age          bmi     children       charges\n",
       "count  1338.000000  1338.000000  1338.000000   1338.000000\n",
       "mean     39.207025    30.663397     1.094918  13270.422265\n",
       "std      14.049960     6.098187     1.205493  12110.011237\n",
       "min      18.000000    15.960000     0.000000   1121.873900\n",
       "25%      27.000000    26.296250     0.000000   4740.287150\n",
       "50%      39.000000    30.400000     1.000000   9382.033000\n",
       "75%      51.000000    34.693750     2.000000  16639.912515\n",
       "max      64.000000    53.130000     5.000000  63770.428010"
      ]
     },
     "execution_count": 50,
     "metadata": {},
     "output_type": "execute_result"
    }
   ],
   "source": [
    "# describe is a useful method for viewing which of your features are numeric:\n",
    "linear_data.describe()"
   ]
  },
  {
   "cell_type": "code",
   "execution_count": 51,
   "id": "108fac0c-9648-44ef-af12-2ea2e8efa066",
   "metadata": {},
   "outputs": [],
   "source": [
    "# From exploring the data I can see that we do not have any NaN values to worry about. \n",
    "# But we do have some categorical features in the data that we need to one hot encode:"
   ]
  },
  {
   "cell_type": "markdown",
   "id": "94be9613-8407-499c-9986-e99001487245",
   "metadata": {},
   "source": [
    "Which features do we need to one hot encode? The features taht are type \"object\". For this dataset this includes:\n",
    "- sex\n",
    "- smoker\n",
    "- region\n",
    "\n",
    "The target variable for this dataset will be \"charges\" as this is what we will want to predict."
   ]
  },
  {
   "cell_type": "code",
   "execution_count": 52,
   "id": "26209add-b5ef-4496-82da-1fb97bbd21a9",
   "metadata": {},
   "outputs": [
    {
     "data": {
      "text/plain": [
       "age  sex     bmi     children  smoker  region     charges    \n",
       "19   male    30.590  0         no      northwest  1639.56310     2\n",
       "47   male    29.830  3         no      northwest  9620.33070     1\n",
       "48   female  25.850  3         yes     southeast  24180.93350    1\n",
       "             22.800  0         no      southwest  8269.04400     1\n",
       "47   male    47.520  1         no      southeast  8083.91980     1\n",
       "                                                                ..\n",
       "31   female  25.740  0         no      southeast  3756.62160     1\n",
       "             23.600  2         no      southwest  4931.64700     1\n",
       "             21.755  0         no      northwest  4134.08245     1\n",
       "30   male    44.220  2         no      southeast  4266.16580     1\n",
       "64   male    40.480  0         no      southeast  13831.11520    1\n",
       "Name: count, Length: 1337, dtype: int64"
      ]
     },
     "execution_count": 52,
     "metadata": {},
     "output_type": "execute_result"
    }
   ],
   "source": [
    "linear_data.value_counts()"
   ]
  },
  {
   "cell_type": "markdown",
   "id": "499b67ed-6fe6-43d1-95a1-10489d30f508",
   "metadata": {},
   "source": [
    "## One hot encoding"
   ]
  },
  {
   "cell_type": "code",
   "execution_count": 53,
   "id": "abb9e918-987b-479a-a493-3630e60dd768",
   "metadata": {},
   "outputs": [],
   "source": [
    "# One hot encoding, creating my own version of a one hot encoding function\n",
    "\n",
    "def one_hot_encode(df_name, list_of_cols):\n",
    "    test_linear_data = df_name.copy()\n",
    "    \n",
    "    for col in list_of_cols:\n",
    "        dummies = pd.get_dummies(\n",
    "            data= df_name[col],\n",
    "            prefix= f\"{col} = \"\n",
    "        )\n",
    "        test_linear_data = pd.concat([test_linear_data, dummies], axis=1)\n",
    "        test_linear_data.drop([col], axis=1, inplace=True)\n",
    "    \n",
    "    return test_linear_data"
   ]
  },
  {
   "cell_type": "code",
   "execution_count": 54,
   "id": "a655606a-be2b-40c2-87ab-6f45961d95a8",
   "metadata": {},
   "outputs": [],
   "source": [
    "linear_data_OHE = one_hot_encode(linear_data, [\"sex\", \"smoker\", \"region\"])"
   ]
  },
  {
   "cell_type": "code",
   "execution_count": 55,
   "id": "b8c41741-b92f-405e-a4b6-9e852d22d2a9",
   "metadata": {},
   "outputs": [
    {
     "data": {
      "text/html": [
       "<div>\n",
       "<style scoped>\n",
       "    .dataframe tbody tr th:only-of-type {\n",
       "        vertical-align: middle;\n",
       "    }\n",
       "\n",
       "    .dataframe tbody tr th {\n",
       "        vertical-align: top;\n",
       "    }\n",
       "\n",
       "    .dataframe thead th {\n",
       "        text-align: right;\n",
       "    }\n",
       "</style>\n",
       "<table border=\"1\" class=\"dataframe\">\n",
       "  <thead>\n",
       "    <tr style=\"text-align: right;\">\n",
       "      <th></th>\n",
       "      <th>age</th>\n",
       "      <th>bmi</th>\n",
       "      <th>children</th>\n",
       "      <th>charges</th>\n",
       "      <th>sex = _female</th>\n",
       "      <th>sex = _male</th>\n",
       "      <th>smoker = _no</th>\n",
       "      <th>smoker = _yes</th>\n",
       "      <th>region = _northeast</th>\n",
       "      <th>region = _northwest</th>\n",
       "      <th>region = _southeast</th>\n",
       "      <th>region = _southwest</th>\n",
       "    </tr>\n",
       "  </thead>\n",
       "  <tbody>\n",
       "    <tr>\n",
       "      <th>0</th>\n",
       "      <td>19</td>\n",
       "      <td>27.900</td>\n",
       "      <td>0</td>\n",
       "      <td>16884.92400</td>\n",
       "      <td>True</td>\n",
       "      <td>False</td>\n",
       "      <td>False</td>\n",
       "      <td>True</td>\n",
       "      <td>False</td>\n",
       "      <td>False</td>\n",
       "      <td>False</td>\n",
       "      <td>True</td>\n",
       "    </tr>\n",
       "    <tr>\n",
       "      <th>1</th>\n",
       "      <td>18</td>\n",
       "      <td>33.770</td>\n",
       "      <td>1</td>\n",
       "      <td>1725.55230</td>\n",
       "      <td>False</td>\n",
       "      <td>True</td>\n",
       "      <td>True</td>\n",
       "      <td>False</td>\n",
       "      <td>False</td>\n",
       "      <td>False</td>\n",
       "      <td>True</td>\n",
       "      <td>False</td>\n",
       "    </tr>\n",
       "    <tr>\n",
       "      <th>2</th>\n",
       "      <td>28</td>\n",
       "      <td>33.000</td>\n",
       "      <td>3</td>\n",
       "      <td>4449.46200</td>\n",
       "      <td>False</td>\n",
       "      <td>True</td>\n",
       "      <td>True</td>\n",
       "      <td>False</td>\n",
       "      <td>False</td>\n",
       "      <td>False</td>\n",
       "      <td>True</td>\n",
       "      <td>False</td>\n",
       "    </tr>\n",
       "    <tr>\n",
       "      <th>3</th>\n",
       "      <td>33</td>\n",
       "      <td>22.705</td>\n",
       "      <td>0</td>\n",
       "      <td>21984.47061</td>\n",
       "      <td>False</td>\n",
       "      <td>True</td>\n",
       "      <td>True</td>\n",
       "      <td>False</td>\n",
       "      <td>False</td>\n",
       "      <td>True</td>\n",
       "      <td>False</td>\n",
       "      <td>False</td>\n",
       "    </tr>\n",
       "    <tr>\n",
       "      <th>4</th>\n",
       "      <td>32</td>\n",
       "      <td>28.880</td>\n",
       "      <td>0</td>\n",
       "      <td>3866.85520</td>\n",
       "      <td>False</td>\n",
       "      <td>True</td>\n",
       "      <td>True</td>\n",
       "      <td>False</td>\n",
       "      <td>False</td>\n",
       "      <td>True</td>\n",
       "      <td>False</td>\n",
       "      <td>False</td>\n",
       "    </tr>\n",
       "  </tbody>\n",
       "</table>\n",
       "</div>"
      ],
      "text/plain": [
       "   age     bmi  children      charges  sex = _female  sex = _male  \\\n",
       "0   19  27.900         0  16884.92400           True        False   \n",
       "1   18  33.770         1   1725.55230          False         True   \n",
       "2   28  33.000         3   4449.46200          False         True   \n",
       "3   33  22.705         0  21984.47061          False         True   \n",
       "4   32  28.880         0   3866.85520          False         True   \n",
       "\n",
       "   smoker = _no  smoker = _yes  region = _northeast  region = _northwest  \\\n",
       "0         False           True                False                False   \n",
       "1          True          False                False                False   \n",
       "2          True          False                False                False   \n",
       "3          True          False                False                 True   \n",
       "4          True          False                False                 True   \n",
       "\n",
       "   region = _southeast  region = _southwest  \n",
       "0                False                 True  \n",
       "1                 True                False  \n",
       "2                 True                False  \n",
       "3                False                False  \n",
       "4                False                False  "
      ]
     },
     "execution_count": 55,
     "metadata": {},
     "output_type": "execute_result"
    }
   ],
   "source": [
    "linear_data_OHE.head()"
   ]
  },
  {
   "cell_type": "code",
   "execution_count": 56,
   "id": "9b4526b2-f3ed-47ed-a27e-c32a22c2561b",
   "metadata": {},
   "outputs": [
    {
     "data": {
      "text/plain": [
       "(1338, 12)"
      ]
     },
     "execution_count": 56,
     "metadata": {},
     "output_type": "execute_result"
    }
   ],
   "source": [
    "linear_data_OHE.shape"
   ]
  },
  {
   "cell_type": "code",
   "execution_count": 57,
   "id": "dbea2679-7499-4346-a2c6-79c385fd1848",
   "metadata": {},
   "outputs": [
    {
     "data": {
      "text/html": [
       "<div>\n",
       "<style scoped>\n",
       "    .dataframe tbody tr th:only-of-type {\n",
       "        vertical-align: middle;\n",
       "    }\n",
       "\n",
       "    .dataframe tbody tr th {\n",
       "        vertical-align: top;\n",
       "    }\n",
       "\n",
       "    .dataframe thead th {\n",
       "        text-align: right;\n",
       "    }\n",
       "</style>\n",
       "<table border=\"1\" class=\"dataframe\">\n",
       "  <thead>\n",
       "    <tr style=\"text-align: right;\">\n",
       "      <th></th>\n",
       "      <th>age</th>\n",
       "      <th>bmi</th>\n",
       "      <th>children</th>\n",
       "      <th>charges</th>\n",
       "      <th>sex_female</th>\n",
       "      <th>sex_male</th>\n",
       "      <th>smoker_no</th>\n",
       "      <th>smoker_yes</th>\n",
       "      <th>region_northeast</th>\n",
       "      <th>region_northwest</th>\n",
       "      <th>region_southeast</th>\n",
       "      <th>region_southwest</th>\n",
       "    </tr>\n",
       "  </thead>\n",
       "  <tbody>\n",
       "    <tr>\n",
       "      <th>0</th>\n",
       "      <td>19</td>\n",
       "      <td>27.900</td>\n",
       "      <td>0</td>\n",
       "      <td>16884.92400</td>\n",
       "      <td>True</td>\n",
       "      <td>False</td>\n",
       "      <td>False</td>\n",
       "      <td>True</td>\n",
       "      <td>False</td>\n",
       "      <td>False</td>\n",
       "      <td>False</td>\n",
       "      <td>True</td>\n",
       "    </tr>\n",
       "    <tr>\n",
       "      <th>1</th>\n",
       "      <td>18</td>\n",
       "      <td>33.770</td>\n",
       "      <td>1</td>\n",
       "      <td>1725.55230</td>\n",
       "      <td>False</td>\n",
       "      <td>True</td>\n",
       "      <td>True</td>\n",
       "      <td>False</td>\n",
       "      <td>False</td>\n",
       "      <td>False</td>\n",
       "      <td>True</td>\n",
       "      <td>False</td>\n",
       "    </tr>\n",
       "    <tr>\n",
       "      <th>2</th>\n",
       "      <td>28</td>\n",
       "      <td>33.000</td>\n",
       "      <td>3</td>\n",
       "      <td>4449.46200</td>\n",
       "      <td>False</td>\n",
       "      <td>True</td>\n",
       "      <td>True</td>\n",
       "      <td>False</td>\n",
       "      <td>False</td>\n",
       "      <td>False</td>\n",
       "      <td>True</td>\n",
       "      <td>False</td>\n",
       "    </tr>\n",
       "    <tr>\n",
       "      <th>3</th>\n",
       "      <td>33</td>\n",
       "      <td>22.705</td>\n",
       "      <td>0</td>\n",
       "      <td>21984.47061</td>\n",
       "      <td>False</td>\n",
       "      <td>True</td>\n",
       "      <td>True</td>\n",
       "      <td>False</td>\n",
       "      <td>False</td>\n",
       "      <td>True</td>\n",
       "      <td>False</td>\n",
       "      <td>False</td>\n",
       "    </tr>\n",
       "    <tr>\n",
       "      <th>4</th>\n",
       "      <td>32</td>\n",
       "      <td>28.880</td>\n",
       "      <td>0</td>\n",
       "      <td>3866.85520</td>\n",
       "      <td>False</td>\n",
       "      <td>True</td>\n",
       "      <td>True</td>\n",
       "      <td>False</td>\n",
       "      <td>False</td>\n",
       "      <td>True</td>\n",
       "      <td>False</td>\n",
       "      <td>False</td>\n",
       "    </tr>\n",
       "  </tbody>\n",
       "</table>\n",
       "</div>"
      ],
      "text/plain": [
       "   age     bmi  children      charges  sex_female  sex_male  smoker_no  \\\n",
       "0   19  27.900         0  16884.92400        True     False      False   \n",
       "1   18  33.770         1   1725.55230       False      True       True   \n",
       "2   28  33.000         3   4449.46200       False      True       True   \n",
       "3   33  22.705         0  21984.47061       False      True       True   \n",
       "4   32  28.880         0   3866.85520       False      True       True   \n",
       "\n",
       "   smoker_yes  region_northeast  region_northwest  region_southeast  \\\n",
       "0        True             False             False             False   \n",
       "1       False             False             False              True   \n",
       "2       False             False             False              True   \n",
       "3       False             False              True             False   \n",
       "4       False             False              True             False   \n",
       "\n",
       "   region_southwest  \n",
       "0              True  \n",
       "1             False  \n",
       "2             False  \n",
       "3             False  \n",
       "4             False  "
      ]
     },
     "execution_count": 57,
     "metadata": {},
     "output_type": "execute_result"
    }
   ],
   "source": [
    "# What happens when I use pd.get_dummies on the entire dataframe?\n",
    "dummies = pd.get_dummies(data= linear_data)\n",
    "dummies.head()"
   ]
  },
  {
   "cell_type": "code",
   "execution_count": 58,
   "id": "dc682b76-87f6-45e7-afef-c4046b8e6b7f",
   "metadata": {},
   "outputs": [
    {
     "data": {
      "text/plain": [
       "(1338, 12)"
      ]
     },
     "execution_count": 58,
     "metadata": {},
     "output_type": "execute_result"
    }
   ],
   "source": [
    "dummies.shape"
   ]
  },
  {
   "cell_type": "markdown",
   "id": "2043cb84-7ba4-4c30-9083-d9863f37eefb",
   "metadata": {},
   "source": [
    "### NOTE ON ONE HOT ENCODING: \n",
    "\n",
    "Insead of writing a new function for the one hot encoding step I should just use the existing function pd.get_dummies properly! If I give this function a dataframe it will return a new dataframe which has dummy variables for all the categorical data . it will also drop the original columns for you.\n",
    "\n"
   ]
  },
  {
   "cell_type": "markdown",
   "id": "1f5e31ba-0673-45cb-9e4c-8953d5de3818",
   "metadata": {},
   "source": [
    "## Linear Regression - creating training and testing the model"
   ]
  },
  {
   "cell_type": "code",
   "execution_count": 67,
   "id": "5631ace7-bdab-46ac-aadf-7ab989a01816",
   "metadata": {},
   "outputs": [],
   "source": [
    "from sklearn.linear_model import LinearRegression\n",
    "from sklearn.model_selection import train_test_split"
   ]
  },
  {
   "cell_type": "code",
   "execution_count": 60,
   "id": "1004c443-80f2-4d8b-b320-ea63b9ae360d",
   "metadata": {},
   "outputs": [],
   "source": [
    "# Now that the data is one hot encoded, lets define the feature matrix and target variable:\n",
    "X = linear_data_OHE.drop([\"charges\"], axis=1)\n",
    "y = linear_data_OHE[\"charges\"]"
   ]
  },
  {
   "cell_type": "code",
   "execution_count": 64,
   "id": "3c856fb1-4baf-4710-95e4-9dd475a1e242",
   "metadata": {},
   "outputs": [],
   "source": [
    "### Instantiate the model "
   ]
  },
  {
   "cell_type": "code",
   "execution_count": 65,
   "id": "d68f95b8-07e7-45cd-b59f-e45b3b9eac0e",
   "metadata": {},
   "outputs": [],
   "source": [
    "lr_model = LinearRegression()"
   ]
  },
  {
   "cell_type": "markdown",
   "id": "f4b7a1ef-0a08-4ab8-8e43-95e31db302f9",
   "metadata": {},
   "source": [
    "### Create the train test split"
   ]
  },
  {
   "cell_type": "code",
   "execution_count": 70,
   "id": "3aea6f2d-d8aa-4bb1-b483-a1b48066c99e",
   "metadata": {},
   "outputs": [],
   "source": [
    "X_train, X_test, y_train, y_test = train_test_split(X, y, test_size=0.2, shuffle=True, random_state=42)"
   ]
  },
  {
   "cell_type": "markdown",
   "id": "7116b26e-3352-44da-a129-f386ad7c550b",
   "metadata": {},
   "source": [
    "### Fit the instantiated model to the training data and make predictions!"
   ]
  },
  {
   "cell_type": "code",
   "execution_count": 73,
   "id": "79a13a8c-3d2a-400a-8c94-042d94547b04",
   "metadata": {},
   "outputs": [],
   "source": [
    "lr_model.fit(X_train, y_train)\n",
    "lrmodel_predictions = lr_model.predict(X_test)"
   ]
  },
  {
   "cell_type": "markdown",
   "id": "125538eb-b1fd-4599-be63-dee169bc9c30",
   "metadata": {},
   "source": [
    "### Analyse how the model performed with metrics:"
   ]
  },
  {
   "cell_type": "code",
   "execution_count": 77,
   "id": "9dcc83ec-65c7-4d7e-ba81-69ca56c810cc",
   "metadata": {},
   "outputs": [],
   "source": [
    "from sklearn.metrics import mean_absolute_error, mean_squared_error"
   ]
  },
  {
   "cell_type": "markdown",
   "id": "c5bb1c88-da7f-4df2-92d9-267178552155",
   "metadata": {},
   "source": [
    "#### MAE: Mean Absolute Error"
   ]
  },
  {
   "cell_type": "code",
   "execution_count": 78,
   "id": "aa4c8b4b-d93d-4298-9a23-4e3a9c7f060a",
   "metadata": {},
   "outputs": [
    {
     "data": {
      "text/plain": [
       "4181.194473753645"
      ]
     },
     "execution_count": 78,
     "metadata": {},
     "output_type": "execute_result"
    }
   ],
   "source": [
    "MAE = mean_absolute_error(y_test, lrmodel_predictions)\n",
    "MAE"
   ]
  },
  {
   "cell_type": "markdown",
   "id": "0c153b02-b0ae-4a45-92c8-93711400f67d",
   "metadata": {},
   "source": [
    "#### MSE: Mean Squared Error"
   ]
  },
  {
   "cell_type": "code",
   "execution_count": 95,
   "id": "2a6f97d2-2910-4353-bc7f-269dccab13f5",
   "metadata": {},
   "outputs": [
    {
     "data": {
      "text/plain": [
       "33596915.851361476"
      ]
     },
     "execution_count": 95,
     "metadata": {},
     "output_type": "execute_result"
    }
   ],
   "source": [
    "MSE = mean_squared_error(y_test, lrmodel_predictions)\n",
    "MSE"
   ]
  },
  {
   "cell_type": "markdown",
   "id": "0048025c-1571-4c52-8543-518c8e978187",
   "metadata": {},
   "source": [
    "#### K-folds cross validation. \n",
    "\n",
    "analysing the how our model performs with the test data is great, but it can be tricky to know just how well it is performing. Use cross-validation to explore the variance in error that exists in your model and to explore whether or not your model might be overfitting (high variance!)"
   ]
  },
  {
   "cell_type": "code",
   "execution_count": 90,
   "id": "2414ca26-fe09-4b16-af88-0ba43b4c5614",
   "metadata": {},
   "outputs": [],
   "source": [
    "from sklearn.model_selection import KFold, cross_val_score\n",
    "import numpy as np"
   ]
  },
  {
   "cell_type": "code",
   "execution_count": 82,
   "id": "ef38294b-5eef-4f59-9274-f6ca5426c3f1",
   "metadata": {},
   "outputs": [],
   "source": [
    "# Initialise the KFold cross-validation model:\n",
    "kfold_cv = KFold(n_splits=5, shuffle=True, random_state=42)"
   ]
  },
  {
   "cell_type": "code",
   "execution_count": 87,
   "id": "71776384-0804-42c8-8c41-8f69ad9a76ec",
   "metadata": {
    "scrolled": true
   },
   "outputs": [
    {
     "data": {
      "text/plain": [
       "array([-33596915.85136148, -37439620.22608732, -33451562.85551281,\n",
       "       -41559312.10772003, -38946008.53668635])"
      ]
     },
     "execution_count": 87,
     "metadata": {},
     "output_type": "execute_result"
    }
   ],
   "source": [
    "# Fit the kfold cross validation model:\n",
    "cv_results = cross_val_score(\n",
    "    estimator = lr_model, # select the model we want to test\n",
    "    X = X, # in other scenarios this should be X_train\n",
    "    y = y, \n",
    "    cv=kfold_cv, # tell what fold template to use\n",
    "    scoring=\"neg_mean_squared_error\" # This is an evaluation metric\n",
    ")\n",
    "\n",
    "cv_results"
   ]
  },
  {
   "cell_type": "markdown",
   "id": "91a9860b-24c8-4314-8857-88804c71e364",
   "metadata": {},
   "source": [
    "#### R^2: Coefficient of determination"
   ]
  },
  {
   "cell_type": "code",
   "execution_count": 94,
   "id": "1dc8234d-b7bb-4265-bbcf-1ba1d948d5d5",
   "metadata": {},
   "outputs": [
    {
     "data": {
      "text/plain": [
       "array([0.78359298, 0.7380458 , 0.79558615, 0.63243806, 0.75131533])"
      ]
     },
     "execution_count": 94,
     "metadata": {},
     "output_type": "execute_result"
    }
   ],
   "source": [
    "# Fit the kfold cross validation model, this time lets see R^2:\n",
    "cv_results = cross_val_score(\n",
    "    estimator = lr_model, # select the model we want to test\n",
    "    X = X, # in other scenarios this should be X_train\n",
    "    y = y, \n",
    "    cv=kfold_cv, # tell what fold template to use\n",
    "    scoring=\"r2\" # This is an evaluation metric\n",
    ")\n",
    "\n",
    "cv_results\n",
    "\n",
    "# You can interpret R^2 by saying: The estimator accounts for ___ percent of the variance that exists in the data. "
   ]
  },
  {
   "cell_type": "markdown",
   "id": "1c2812f8-1158-4c64-ab80-6c726fe89e49",
   "metadata": {},
   "source": [
    "### NOTE: \n",
    "\n",
    "All scorer objects for the function cross_val_score follow the convention that higher return values are better than lower return values. Thus metrics which measure the distance between the model and the data, like metrics.mean_squared_error, are available as neg_mean_squared_error which return the negated value of the metric."
   ]
  },
  {
   "cell_type": "code",
   "execution_count": 91,
   "id": "daebb0b3-1094-4218-9688-bf30ed3c3182",
   "metadata": {},
   "outputs": [
    {
     "data": {
      "text/plain": [
       "3128575.44"
      ]
     },
     "execution_count": 91,
     "metadata": {},
     "output_type": "execute_result"
    }
   ],
   "source": [
    "# Lets see the standard deviation for the cross validation errors:\n",
    "round(np.std(cv_results), 2) "
   ]
  },
  {
   "cell_type": "markdown",
   "id": "2b828769-60c2-48ed-ab33-1c2b8714494e",
   "metadata": {},
   "source": [
    "## Logistic regression and Metrics\n",
    "\n",
    "We need to use different evaluation metrics when assessing a logistic regression problem. Here are 4 of the most common types of metrics for a classification scenario:\n",
    "1. Accuracy\n",
    "2. Precision/ Recall/ F1\n",
    "3. Sensitivity/ Specificity\n",
    "4. AUC/ ROC"
   ]
  },
  {
   "cell_type": "code",
   "execution_count": 97,
   "id": "bd33081d-b376-4de1-b635-99131954b68c",
   "metadata": {},
   "outputs": [],
   "source": [
    "# Lets move on to practicing logistic regression. First we import our dataset:\n",
    "\n",
    "lr_data = pd.read_csv(\"./ml-intro-to-classification-Meg-Guidry/data/diabetes.csv\")"
   ]
  },
  {
   "cell_type": "code",
   "execution_count": 112,
   "id": "df596416-30f6-4f5e-974b-de34114c492f",
   "metadata": {},
   "outputs": [
    {
     "data": {
      "text/html": [
       "<div>\n",
       "<style scoped>\n",
       "    .dataframe tbody tr th:only-of-type {\n",
       "        vertical-align: middle;\n",
       "    }\n",
       "\n",
       "    .dataframe tbody tr th {\n",
       "        vertical-align: top;\n",
       "    }\n",
       "\n",
       "    .dataframe thead th {\n",
       "        text-align: right;\n",
       "    }\n",
       "</style>\n",
       "<table border=\"1\" class=\"dataframe\">\n",
       "  <thead>\n",
       "    <tr style=\"text-align: right;\">\n",
       "      <th></th>\n",
       "      <th>Pregnancies</th>\n",
       "      <th>Glucose</th>\n",
       "      <th>BloodPressure</th>\n",
       "      <th>SkinThickness</th>\n",
       "      <th>Insulin</th>\n",
       "      <th>BMI</th>\n",
       "      <th>Age</th>\n",
       "      <th>Outcome</th>\n",
       "    </tr>\n",
       "  </thead>\n",
       "  <tbody>\n",
       "    <tr>\n",
       "      <th>0</th>\n",
       "      <td>6</td>\n",
       "      <td>148</td>\n",
       "      <td>72</td>\n",
       "      <td>35</td>\n",
       "      <td>0</td>\n",
       "      <td>33.6</td>\n",
       "      <td>50</td>\n",
       "      <td>1</td>\n",
       "    </tr>\n",
       "    <tr>\n",
       "      <th>1</th>\n",
       "      <td>1</td>\n",
       "      <td>85</td>\n",
       "      <td>66</td>\n",
       "      <td>29</td>\n",
       "      <td>0</td>\n",
       "      <td>26.6</td>\n",
       "      <td>31</td>\n",
       "      <td>0</td>\n",
       "    </tr>\n",
       "    <tr>\n",
       "      <th>2</th>\n",
       "      <td>8</td>\n",
       "      <td>183</td>\n",
       "      <td>64</td>\n",
       "      <td>0</td>\n",
       "      <td>0</td>\n",
       "      <td>23.3</td>\n",
       "      <td>32</td>\n",
       "      <td>1</td>\n",
       "    </tr>\n",
       "    <tr>\n",
       "      <th>3</th>\n",
       "      <td>1</td>\n",
       "      <td>89</td>\n",
       "      <td>66</td>\n",
       "      <td>23</td>\n",
       "      <td>94</td>\n",
       "      <td>28.1</td>\n",
       "      <td>21</td>\n",
       "      <td>0</td>\n",
       "    </tr>\n",
       "    <tr>\n",
       "      <th>4</th>\n",
       "      <td>0</td>\n",
       "      <td>137</td>\n",
       "      <td>40</td>\n",
       "      <td>35</td>\n",
       "      <td>168</td>\n",
       "      <td>43.1</td>\n",
       "      <td>33</td>\n",
       "      <td>1</td>\n",
       "    </tr>\n",
       "  </tbody>\n",
       "</table>\n",
       "</div>"
      ],
      "text/plain": [
       "   Pregnancies  Glucose  BloodPressure  SkinThickness  Insulin   BMI  Age  \\\n",
       "0            6      148             72             35        0  33.6   50   \n",
       "1            1       85             66             29        0  26.6   31   \n",
       "2            8      183             64              0        0  23.3   32   \n",
       "3            1       89             66             23       94  28.1   21   \n",
       "4            0      137             40             35      168  43.1   33   \n",
       "\n",
       "   Outcome  \n",
       "0        1  \n",
       "1        0  \n",
       "2        1  \n",
       "3        0  \n",
       "4        1  "
      ]
     },
     "execution_count": 112,
     "metadata": {},
     "output_type": "execute_result"
    }
   ],
   "source": [
    "lr_data.head()"
   ]
  },
  {
   "cell_type": "code",
   "execution_count": 110,
   "id": "f3bc1931-44f9-4fa6-a994-bb21fd50e7fc",
   "metadata": {},
   "outputs": [],
   "source": [
    "lr_data.drop(\"DiabetesPedigreeFunction\", axis=1, inplace=True)"
   ]
  },
  {
   "cell_type": "code",
   "execution_count": 111,
   "id": "3af1fa0f-1d0f-4c16-95e6-4a6654035012",
   "metadata": {
    "scrolled": true
   },
   "outputs": [
    {
     "data": {
      "text/plain": [
       "Pregnancies      0\n",
       "Glucose          0\n",
       "BloodPressure    0\n",
       "SkinThickness    0\n",
       "Insulin          0\n",
       "BMI              0\n",
       "Age              0\n",
       "Outcome          0\n",
       "dtype: int64"
      ]
     },
     "execution_count": 111,
     "metadata": {},
     "output_type": "execute_result"
    }
   ],
   "source": [
    "lr_data.isna().sum()"
   ]
  },
  {
   "cell_type": "markdown",
   "id": "81fbddda-953b-4e0b-86c4-302645c5204f",
   "metadata": {},
   "source": [
    "We can see above that the data does not have any NaN values, so we are ready to make and fit a logistic regression model that predicts diabetes. Before we do this let's look at the distribution of values for \"Outcome\""
   ]
  },
  {
   "cell_type": "code",
   "execution_count": 101,
   "id": "ec0a8dd3-c7fe-42e1-a84e-c6f6c77faaf7",
   "metadata": {},
   "outputs": [
    {
     "data": {
      "text/plain": [
       "Outcome\n",
       "0    500\n",
       "1    268\n",
       "Name: count, dtype: int64"
      ]
     },
     "execution_count": 101,
     "metadata": {},
     "output_type": "execute_result"
    }
   ],
   "source": [
    "lr_data[\"Outcome\"].value_counts()"
   ]
  },
  {
   "cell_type": "code",
   "execution_count": 104,
   "id": "5b6b7c13-daa6-4c18-828e-586964510235",
   "metadata": {},
   "outputs": [],
   "source": [
    "from sklearn.linear_model import LogisticRegression"
   ]
  },
  {
   "cell_type": "code",
   "execution_count": 114,
   "id": "f6119edc-b076-4ff1-9304-d939c2636f11",
   "metadata": {},
   "outputs": [],
   "source": [
    "# Instantiate the logistic regression model\n",
    "logr_model = LogisticRegression()"
   ]
  },
  {
   "cell_type": "code",
   "execution_count": 115,
   "id": "bc1afa8f-0c3e-4e71-a753-3e106f004ab4",
   "metadata": {},
   "outputs": [],
   "source": [
    "# Detine the independent and dependent variables:\n",
    "X = lr_data.drop(\"Outcome\", axis=1)\n",
    "y = lr_data[\"Outcome\"] "
   ]
  },
  {
   "cell_type": "code",
   "execution_count": 140,
   "id": "e5e37329-99fa-490f-ab70-adebf52c520e",
   "metadata": {},
   "outputs": [
    {
     "data": {
      "text/plain": [
       "['Pregnancies',\n",
       " 'Glucose',\n",
       " 'BloodPressure',\n",
       " 'SkinThickness',\n",
       " 'Insulin',\n",
       " 'BMI',\n",
       " 'Age']"
      ]
     },
     "execution_count": 140,
     "metadata": {},
     "output_type": "execute_result"
    }
   ],
   "source": [
    "X.columns.tolist()"
   ]
  },
  {
   "cell_type": "code",
   "execution_count": 116,
   "id": "b8f4568e-f036-4a30-a0c6-1b5bf96f8c7c",
   "metadata": {},
   "outputs": [],
   "source": [
    "# Create the train test split:\n",
    "X_train, X_test, y_train, y_test = train_test_split(X, y, test_size=0.2, shuffle=True, random_state=42)"
   ]
  },
  {
   "cell_type": "code",
   "execution_count": 117,
   "id": "5b4ac83e-b657-4af7-a6d7-ea9dbe4a69d1",
   "metadata": {},
   "outputs": [
    {
     "data": {
      "text/html": [
       "<style>#sk-container-id-2 {color: black;}#sk-container-id-2 pre{padding: 0;}#sk-container-id-2 div.sk-toggleable {background-color: white;}#sk-container-id-2 label.sk-toggleable__label {cursor: pointer;display: block;width: 100%;margin-bottom: 0;padding: 0.3em;box-sizing: border-box;text-align: center;}#sk-container-id-2 label.sk-toggleable__label-arrow:before {content: \"▸\";float: left;margin-right: 0.25em;color: #696969;}#sk-container-id-2 label.sk-toggleable__label-arrow:hover:before {color: black;}#sk-container-id-2 div.sk-estimator:hover label.sk-toggleable__label-arrow:before {color: black;}#sk-container-id-2 div.sk-toggleable__content {max-height: 0;max-width: 0;overflow: hidden;text-align: left;background-color: #f0f8ff;}#sk-container-id-2 div.sk-toggleable__content pre {margin: 0.2em;color: black;border-radius: 0.25em;background-color: #f0f8ff;}#sk-container-id-2 input.sk-toggleable__control:checked~div.sk-toggleable__content {max-height: 200px;max-width: 100%;overflow: auto;}#sk-container-id-2 input.sk-toggleable__control:checked~label.sk-toggleable__label-arrow:before {content: \"▾\";}#sk-container-id-2 div.sk-estimator input.sk-toggleable__control:checked~label.sk-toggleable__label {background-color: #d4ebff;}#sk-container-id-2 div.sk-label input.sk-toggleable__control:checked~label.sk-toggleable__label {background-color: #d4ebff;}#sk-container-id-2 input.sk-hidden--visually {border: 0;clip: rect(1px 1px 1px 1px);clip: rect(1px, 1px, 1px, 1px);height: 1px;margin: -1px;overflow: hidden;padding: 0;position: absolute;width: 1px;}#sk-container-id-2 div.sk-estimator {font-family: monospace;background-color: #f0f8ff;border: 1px dotted black;border-radius: 0.25em;box-sizing: border-box;margin-bottom: 0.5em;}#sk-container-id-2 div.sk-estimator:hover {background-color: #d4ebff;}#sk-container-id-2 div.sk-parallel-item::after {content: \"\";width: 100%;border-bottom: 1px solid gray;flex-grow: 1;}#sk-container-id-2 div.sk-label:hover label.sk-toggleable__label {background-color: #d4ebff;}#sk-container-id-2 div.sk-serial::before {content: \"\";position: absolute;border-left: 1px solid gray;box-sizing: border-box;top: 0;bottom: 0;left: 50%;z-index: 0;}#sk-container-id-2 div.sk-serial {display: flex;flex-direction: column;align-items: center;background-color: white;padding-right: 0.2em;padding-left: 0.2em;position: relative;}#sk-container-id-2 div.sk-item {position: relative;z-index: 1;}#sk-container-id-2 div.sk-parallel {display: flex;align-items: stretch;justify-content: center;background-color: white;position: relative;}#sk-container-id-2 div.sk-item::before, #sk-container-id-2 div.sk-parallel-item::before {content: \"\";position: absolute;border-left: 1px solid gray;box-sizing: border-box;top: 0;bottom: 0;left: 50%;z-index: -1;}#sk-container-id-2 div.sk-parallel-item {display: flex;flex-direction: column;z-index: 1;position: relative;background-color: white;}#sk-container-id-2 div.sk-parallel-item:first-child::after {align-self: flex-end;width: 50%;}#sk-container-id-2 div.sk-parallel-item:last-child::after {align-self: flex-start;width: 50%;}#sk-container-id-2 div.sk-parallel-item:only-child::after {width: 0;}#sk-container-id-2 div.sk-dashed-wrapped {border: 1px dashed gray;margin: 0 0.4em 0.5em 0.4em;box-sizing: border-box;padding-bottom: 0.4em;background-color: white;}#sk-container-id-2 div.sk-label label {font-family: monospace;font-weight: bold;display: inline-block;line-height: 1.2em;}#sk-container-id-2 div.sk-label-container {text-align: center;}#sk-container-id-2 div.sk-container {/* jupyter's `normalize.less` sets `[hidden] { display: none; }` but bootstrap.min.css set `[hidden] { display: none !important; }` so we also need the `!important` here to be able to override the default hidden behavior on the sphinx rendered scikit-learn.org. See: https://github.com/scikit-learn/scikit-learn/issues/21755 */display: inline-block !important;position: relative;}#sk-container-id-2 div.sk-text-repr-fallback {display: none;}</style><div id=\"sk-container-id-2\" class=\"sk-top-container\"><div class=\"sk-text-repr-fallback\"><pre>LogisticRegression()</pre><b>In a Jupyter environment, please rerun this cell to show the HTML representation or trust the notebook. <br />On GitHub, the HTML representation is unable to render, please try loading this page with nbviewer.org.</b></div><div class=\"sk-container\" hidden><div class=\"sk-item\"><div class=\"sk-estimator sk-toggleable\"><input class=\"sk-toggleable__control sk-hidden--visually\" id=\"sk-estimator-id-2\" type=\"checkbox\" checked><label for=\"sk-estimator-id-2\" class=\"sk-toggleable__label sk-toggleable__label-arrow\">LogisticRegression</label><div class=\"sk-toggleable__content\"><pre>LogisticRegression()</pre></div></div></div></div></div>"
      ],
      "text/plain": [
       "LogisticRegression()"
      ]
     },
     "execution_count": 117,
     "metadata": {},
     "output_type": "execute_result"
    }
   ],
   "source": [
    "# Fit the model to the training data:\n",
    "logr_model.fit(X_train, y_train)"
   ]
  },
  {
   "cell_type": "code",
   "execution_count": 120,
   "id": "c4c325b6-5069-4012-bf21-e3d8e6a433ce",
   "metadata": {},
   "outputs": [
    {
     "data": {
      "text/plain": [
       "array([0, 0, 0, 0, 1, 0, 0, 1, 1, 1, 0, 1, 0, 0, 0, 0, 0, 0, 1, 1, 0, 0,\n",
       "       1, 0, 1, 1, 0, 0, 0, 0, 1, 1, 1, 1, 1, 1, 1, 0, 1, 1, 0, 1, 1, 0,\n",
       "       0, 0, 1, 0, 0, 1, 0, 1, 1, 0, 0, 0, 1, 0, 0, 1, 1, 0, 0, 0, 0, 1,\n",
       "       0, 1, 0, 1, 1, 0, 0, 0, 0, 1, 0, 0, 0, 0, 1, 0, 0, 0, 0, 1, 1, 0,\n",
       "       0, 0, 0, 0, 0, 1, 1, 1, 0, 0, 1, 0, 1, 0, 1, 1, 1, 0, 0, 1, 0, 0,\n",
       "       0, 0, 0, 1, 0, 0, 1, 0, 0, 1, 0, 0, 0, 0, 0, 0, 0, 1, 1, 1, 1, 1,\n",
       "       0, 0, 1, 0, 0, 1, 1, 0, 0, 0, 0, 0, 0, 0, 0, 0, 0, 1, 0, 0, 0, 0])"
      ]
     },
     "execution_count": 120,
     "metadata": {},
     "output_type": "execute_result"
    }
   ],
   "source": [
    "# now use the trained model to predict the outcome of your X_test data. We will compare these predictions to the true predictions in the next step\n",
    "predictions = logr_model.predict(X_test)\n",
    "\n",
    "predictions"
   ]
  },
  {
   "cell_type": "markdown",
   "id": "ebd808e5-4411-48c1-b979-bc60b216ca81",
   "metadata": {},
   "source": [
    "#### Accuracy Score\n",
    "$$Accuracy = \\frac{TP + TN}{TP + TN + FP + FN}$$"
   ]
  },
  {
   "cell_type": "code",
   "execution_count": 123,
   "id": "2a0c38ca-2010-4c2d-83ea-ee42d67ef401",
   "metadata": {},
   "outputs": [
    {
     "data": {
      "text/plain": [
       "0.7272727272727273"
      ]
     },
     "execution_count": 123,
     "metadata": {},
     "output_type": "execute_result"
    }
   ],
   "source": [
    "from sklearn.metrics import accuracy_score\n",
    "\n",
    "logr_accuracy = accuracy_score(y_test, predictions)\n",
    "logr_accuracy"
   ]
  },
  {
   "cell_type": "code",
   "execution_count": 130,
   "id": "94f10933-f928-49f9-b2aa-f3df5e8c392a",
   "metadata": {
    "scrolled": true
   },
   "outputs": [
    {
     "data": {
      "text/plain": [
       "Outcome\n",
       "0    0.651042\n",
       "1    0.348958\n",
       "Name: proportion, dtype: float64"
      ]
     },
     "execution_count": 130,
     "metadata": {},
     "output_type": "execute_result"
    }
   ],
   "source": [
    "# Is this accuracy score good? Lets compare it to the distribution of outcome values:\n",
    "\n",
    "lr_data[\"Outcome\"].value_counts(normalize=True)"
   ]
  },
  {
   "cell_type": "markdown",
   "id": "d0a14de1-5fbe-4d31-83ec-d8d72c92834e",
   "metadata": {},
   "source": [
    "65% of the observations do not have diabetes, so an accuracy of 0.72 is better than if we predict 0 for all cases"
   ]
  },
  {
   "cell_type": "markdown",
   "id": "e991efc7-d8ed-448b-b86b-e730809e6496",
   "metadata": {},
   "source": [
    "#### Recall\n",
    "$$Recall = \\frac{TP}{TP + FN}$$"
   ]
  },
  {
   "cell_type": "code",
   "execution_count": 125,
   "id": "2ca0f337-eef9-477f-ba0a-0f63e3021c42",
   "metadata": {},
   "outputs": [
    {
     "data": {
      "text/plain": [
       "0.6363636363636364"
      ]
     },
     "execution_count": 125,
     "metadata": {},
     "output_type": "execute_result"
    }
   ],
   "source": [
    "from sklearn.metrics import recall_score\n",
    "\n",
    "logr_recall = recall_score(y_test, predictions)\n",
    "logr_recall"
   ]
  },
  {
   "cell_type": "markdown",
   "id": "4b46a48d-675e-4762-bd47-9f2455117660",
   "metadata": {},
   "source": [
    "#### Precision\n",
    "$$Precision = \\frac{TP}{TP + FP}$$"
   ]
  },
  {
   "cell_type": "code",
   "execution_count": 127,
   "id": "d39b55c1-fa19-462b-804b-ac8e82fff59d",
   "metadata": {},
   "outputs": [
    {
     "data": {
      "text/plain": [
       "0.6140350877192983"
      ]
     },
     "execution_count": 127,
     "metadata": {},
     "output_type": "execute_result"
    }
   ],
   "source": [
    "from sklearn.metrics import precision_score\n",
    "\n",
    "logr_precision = precision_score(y_test, predictions)\n",
    "logr_precision"
   ]
  },
  {
   "cell_type": "markdown",
   "id": "f9d53761-42db-45a8-8014-0dc08ac7f30b",
   "metadata": {},
   "source": [
    "#### F1-Score\n",
    "$$F1= 2 * \\frac{\\large{precision * recall}}{\\large{precision + recall}}$$"
   ]
  },
  {
   "cell_type": "code",
   "execution_count": 128,
   "id": "42d62df5-3bcd-41ab-bd7b-733f15da9ae6",
   "metadata": {},
   "outputs": [
    {
     "data": {
      "text/plain": [
       "0.625"
      ]
     },
     "execution_count": 128,
     "metadata": {},
     "output_type": "execute_result"
    }
   ],
   "source": [
    "from sklearn.metrics import f1_score\n",
    "\n",
    "logr_f1 = f1_score(y_test, predictions)\n",
    "logr_f1"
   ]
  },
  {
   "cell_type": "code",
   "execution_count": 132,
   "id": "589f76bb-f243-4b7d-b736-df4e772ea7d3",
   "metadata": {},
   "outputs": [
    {
     "data": {
      "text/plain": [
       "array([[77, 22],\n",
       "       [20, 35]])"
      ]
     },
     "execution_count": 132,
     "metadata": {},
     "output_type": "execute_result"
    }
   ],
   "source": [
    "#### Confusion Matrix\n",
    "\n",
    "from sklearn.metrics import confusion_matrix\n",
    "\n",
    "logr_cm = confusion_matrix(y_test, predictions)\n",
    "logr_cm"
   ]
  },
  {
   "cell_type": "markdown",
   "id": "89ffe6c0-dd67-4f88-8dcf-6bedc29d39e0",
   "metadata": {},
   "source": [
    "#### Sensitivity(recall) and specificity"
   ]
  },
  {
   "cell_type": "code",
   "execution_count": 137,
   "id": "9d140fa3-e88d-4f9b-ba09-45420adfa321",
   "metadata": {},
   "outputs": [
    {
     "data": {
      "text/plain": [
       "0.6363636363636364"
      ]
     },
     "execution_count": 137,
     "metadata": {},
     "output_type": "execute_result"
    }
   ],
   "source": [
    "from sklearn.metrics import recall_score\n",
    "\n",
    "logr_recall = recall_score(y_test, predictions)\n",
    "logr_recall"
   ]
  },
  {
   "cell_type": "code",
   "execution_count": 142,
   "id": "6ca46cdb-c6f0-4a8c-8d3c-150b9c59c9cc",
   "metadata": {},
   "outputs": [
    {
     "data": {
      "text/plain": [
       "Outcome\n",
       "0    500\n",
       "1    268\n",
       "Name: count, dtype: int64"
      ]
     },
     "execution_count": 142,
     "metadata": {},
     "output_type": "execute_result"
    }
   ],
   "source": [
    "y.value_counts()"
   ]
  },
  {
   "cell_type": "code",
   "execution_count": 146,
   "id": "c5b4c54a-4aeb-4b3e-8efe-244a675cca17",
   "metadata": {},
   "outputs": [
    {
     "data": {
      "text/plain": [
       "{'0': {'precision': 0.7938144329896907,\n",
       "  'recall': 0.7777777777777778,\n",
       "  'f1-score': 0.7857142857142858,\n",
       "  'support': 99.0},\n",
       " '1': {'precision': 0.6140350877192983,\n",
       "  'recall': 0.6363636363636364,\n",
       "  'f1-score': 0.625,\n",
       "  'support': 55.0},\n",
       " 'accuracy': 0.7272727272727273,\n",
       " 'macro avg': {'precision': 0.7039247603544945,\n",
       "  'recall': 0.7070707070707071,\n",
       "  'f1-score': 0.7053571428571429,\n",
       "  'support': 154.0},\n",
       " 'weighted avg': {'precision': 0.7296075239645505,\n",
       "  'recall': 0.7272727272727273,\n",
       "  'f1-score': 0.7283163265306123,\n",
       "  'support': 154.0}}"
      ]
     },
     "execution_count": 146,
     "metadata": {},
     "output_type": "execute_result"
    }
   ],
   "source": [
    "#### Classification report\n",
    "\n",
    "from sklearn.metrics import classification_report\n",
    "\n",
    "logr_classification_report = classification_report(y_test, predictions, output_dict=True)\n",
    "logr_classification_report"
   ]
  },
  {
   "cell_type": "markdown",
   "id": "53ad41c0-1b28-4a88-8135-de0f897c436c",
   "metadata": {},
   "source": [
    "## Nonlinear regression and classification!!"
   ]
  },
  {
   "cell_type": "markdown",
   "id": "a7212c4a-b091-48c4-aa99-adf37091d865",
   "metadata": {},
   "source": [
    "### Decision trees"
   ]
  },
  {
   "cell_type": "code",
   "execution_count": 149,
   "id": "929b0e3c-f296-42f1-91dd-a3e2a08faed9",
   "metadata": {},
   "outputs": [
    {
     "data": {
      "text/plain": [
       "array([0, 1, 0, 0, 0, 1, 0, 1, 1, 1, 0, 1, 1, 1, 0, 0, 0, 0, 1, 0, 1, 0,\n",
       "       1, 1, 0, 1, 0, 0, 0, 0, 1, 1, 1, 1, 1, 1, 1, 0, 0, 1, 0, 1, 1, 0,\n",
       "       0, 1, 1, 0, 0, 1, 0, 1, 1, 0, 0, 0, 0, 0, 0, 0, 0, 1, 0, 0, 0, 0,\n",
       "       0, 1, 0, 1, 1, 0, 0, 0, 0, 0, 0, 0, 0, 0, 0, 0, 0, 1, 1, 0, 0, 0,\n",
       "       0, 0, 0, 0, 0, 1, 0, 0, 1, 0, 1, 0, 1, 0, 1, 0, 1, 0, 0, 1, 0, 1,\n",
       "       0, 1, 0, 1, 0, 1, 1, 0, 0, 1, 0, 0, 0, 0, 0, 1, 1, 1, 1, 1, 1, 1,\n",
       "       0, 0, 1, 1, 0, 1, 1, 0, 0, 0, 0, 0, 0, 0, 0, 0, 0, 0, 0, 0, 0, 0])"
      ]
     },
     "execution_count": 149,
     "metadata": {},
     "output_type": "execute_result"
    }
   ],
   "source": [
    "# Lets use the diabetes data above with a decision tree classifier and assess the results!\n",
    "from sklearn.tree import DecisionTreeClassifier\n",
    "\n",
    "dt = DecisionTreeClassifier()\n",
    "dt.fit(X_train, y_train)\n",
    "dt_predictions = dt.predict(X_test)\n",
    "dt_predictions"
   ]
  },
  {
   "cell_type": "code",
   "execution_count": 152,
   "id": "d71bac73-b241-4360-892f-da7b46514bb2",
   "metadata": {},
   "outputs": [
    {
     "data": {
      "text/plain": [
       "{'0': {'precision': 0.7604166666666666,\n",
       "  'recall': 0.7373737373737373,\n",
       "  'f1-score': 0.7487179487179487,\n",
       "  'support': 99.0},\n",
       " '1': {'precision': 0.5517241379310345,\n",
       "  'recall': 0.5818181818181818,\n",
       "  'f1-score': 0.5663716814159292,\n",
       "  'support': 55.0},\n",
       " 'accuracy': 0.6818181818181818,\n",
       " 'macro avg': {'precision': 0.6560704022988506,\n",
       "  'recall': 0.6595959595959595,\n",
       "  'f1-score': 0.657544815066939,\n",
       "  'support': 154.0},\n",
       " 'weighted avg': {'precision': 0.6858836206896551,\n",
       "  'recall': 0.6818181818181818,\n",
       "  'f1-score': 0.6835942818243703,\n",
       "  'support': 154.0}}"
      ]
     },
     "execution_count": 152,
     "metadata": {},
     "output_type": "execute_result"
    }
   ],
   "source": [
    "# use classification report to assess the results:\n",
    "\n",
    "dt_classification_report = classification_report(y_test, dt_predictions, output_dict=True)\n",
    "dt_classification_report"
   ]
  },
  {
   "cell_type": "markdown",
   "id": "8ff1121d-8d6a-473d-9c7a-48368520d878",
   "metadata": {},
   "source": [
    "### Random Forest"
   ]
  },
  {
   "cell_type": "code",
   "execution_count": 156,
   "id": "e5ac2ae8-08a2-4bc1-bfc1-922b16ad0a4f",
   "metadata": {},
   "outputs": [],
   "source": [
    "from sklearn.ensemble import RandomForestClassifier\n",
    "\n",
    "rf = RandomForestClassifier()\n",
    "rf.fit(X_train, y_train)\n",
    "rf_predictions = rf.predict(X_test)"
   ]
  },
  {
   "cell_type": "code",
   "execution_count": 159,
   "id": "a29fc33c-3e6c-4891-992a-b0f77822d3e9",
   "metadata": {},
   "outputs": [
    {
     "data": {
      "text/plain": [
       "{'0': {'precision': 0.8041237113402062,\n",
       "  'recall': 0.7878787878787878,\n",
       "  'f1-score': 0.7959183673469388,\n",
       "  'support': 99.0},\n",
       " '1': {'precision': 0.631578947368421,\n",
       "  'recall': 0.6545454545454545,\n",
       "  'f1-score': 0.6428571428571428,\n",
       "  'support': 55.0},\n",
       " 'accuracy': 0.7402597402597403,\n",
       " 'macro avg': {'precision': 0.7178513293543136,\n",
       "  'recall': 0.7212121212121212,\n",
       "  'f1-score': 0.7193877551020408,\n",
       "  'support': 154.0},\n",
       " 'weighted avg': {'precision': 0.742500581350283,\n",
       "  'recall': 0.7402597402597403,\n",
       "  'f1-score': 0.7412536443148687,\n",
       "  'support': 154.0}}"
      ]
     },
     "execution_count": 159,
     "metadata": {},
     "output_type": "execute_result"
    }
   ],
   "source": [
    "rf_classification_report = classification_report(y_test, rf_predictions, output_dict=True)\n",
    "rf_classification_report"
   ]
  },
  {
   "cell_type": "code",
   "execution_count": null,
   "id": "c3847c5e-b3cf-405c-b87a-7b6c8a6d406b",
   "metadata": {},
   "outputs": [],
   "source": []
  },
  {
   "cell_type": "code",
   "execution_count": null,
   "id": "735bc7bb-1663-41d7-bbf2-934558345087",
   "metadata": {},
   "outputs": [],
   "source": []
  },
  {
   "cell_type": "code",
   "execution_count": null,
   "id": "b92d08cb-a131-49ea-b154-35c1bc8627ac",
   "metadata": {},
   "outputs": [],
   "source": []
  },
  {
   "cell_type": "markdown",
   "id": "4d2357dc-98f0-41c7-bbcf-119aeb9f2e4a",
   "metadata": {},
   "source": [
    "### Using multiple models on a dataset and picking the best one \n",
    "\n",
    "Here I will practice model selection by training and assessing three different models before choosing the most appropriate one. Here are the model types I will use:\n",
    "1. Logistic regression,\n",
    "2. Decision tree classifier\n",
    "3. Random forest classifier\n",
    "4. k-means clustering "
   ]
  }
 ],
 "metadata": {
  "kernelspec": {
   "display_name": "Python 3 (ipykernel)",
   "language": "python",
   "name": "python3"
  },
  "language_info": {
   "codemirror_mode": {
    "name": "ipython",
    "version": 3
   },
   "file_extension": ".py",
   "mimetype": "text/x-python",
   "name": "python",
   "nbconvert_exporter": "python",
   "pygments_lexer": "ipython3",
   "version": "3.11.5"
  }
 },
 "nbformat": 4,
 "nbformat_minor": 5
}
