{
 "cells": [
  {
   "cell_type": "code",
   "execution_count": 1,
   "id": "658169e7-6982-4760-b068-bc126b265f29",
   "metadata": {},
   "outputs": [],
   "source": [
    "import pandas as pd\n",
    "import seaborn as sns"
   ]
  },
  {
   "cell_type": "markdown",
   "id": "0b558f4c-5925-47f7-bfd1-c5e4f425c836",
   "metadata": {},
   "source": [
    "Machine learning step one: load your data do EDA and make sure all is what you expect. This can include:\n",
    "- checking your features for NaNs and removing or imputing the data.\n",
    "- understanding the types of data you are working with and the shape of your data .info(), .describe() and .shape are useful for this\n",
    "- One hot encode your data if you are planning on working with linear models or other models that would benefit from transforming categorical variables into numeric variables.\n",
    "\n",
    "- NOTE: Data exploration can be time consuming and it can take quite a while to clean your data and to decide what type of ML algorithm you need to use. It is ok! :-)"
   ]
  },
  {
   "cell_type": "markdown",
   "id": "727574f4-5f54-4679-be74-134e448a566a",
   "metadata": {},
   "source": [
    "# Linear Regression"
   ]
  },
  {
   "cell_type": "code",
   "execution_count": 46,
   "id": "49bf2251-4097-454b-ae56-1d583c653428",
   "metadata": {},
   "outputs": [],
   "source": [
    "linear_data = pd.read_csv(\"./ml-linear-regression-Meg-Guidry/data/insurance.csv\")"
   ]
  },
  {
   "cell_type": "code",
   "execution_count": 47,
   "id": "c2099e81-2c3c-44af-9b86-9f62bd176246",
   "metadata": {},
   "outputs": [
    {
     "data": {
      "text/html": [
       "<div>\n",
       "<style scoped>\n",
       "    .dataframe tbody tr th:only-of-type {\n",
       "        vertical-align: middle;\n",
       "    }\n",
       "\n",
       "    .dataframe tbody tr th {\n",
       "        vertical-align: top;\n",
       "    }\n",
       "\n",
       "    .dataframe thead th {\n",
       "        text-align: right;\n",
       "    }\n",
       "</style>\n",
       "<table border=\"1\" class=\"dataframe\">\n",
       "  <thead>\n",
       "    <tr style=\"text-align: right;\">\n",
       "      <th></th>\n",
       "      <th>age</th>\n",
       "      <th>sex</th>\n",
       "      <th>bmi</th>\n",
       "      <th>children</th>\n",
       "      <th>smoker</th>\n",
       "      <th>region</th>\n",
       "      <th>charges</th>\n",
       "    </tr>\n",
       "  </thead>\n",
       "  <tbody>\n",
       "    <tr>\n",
       "      <th>0</th>\n",
       "      <td>19</td>\n",
       "      <td>female</td>\n",
       "      <td>27.900</td>\n",
       "      <td>0</td>\n",
       "      <td>yes</td>\n",
       "      <td>southwest</td>\n",
       "      <td>16884.92400</td>\n",
       "    </tr>\n",
       "    <tr>\n",
       "      <th>1</th>\n",
       "      <td>18</td>\n",
       "      <td>male</td>\n",
       "      <td>33.770</td>\n",
       "      <td>1</td>\n",
       "      <td>no</td>\n",
       "      <td>southeast</td>\n",
       "      <td>1725.55230</td>\n",
       "    </tr>\n",
       "    <tr>\n",
       "      <th>2</th>\n",
       "      <td>28</td>\n",
       "      <td>male</td>\n",
       "      <td>33.000</td>\n",
       "      <td>3</td>\n",
       "      <td>no</td>\n",
       "      <td>southeast</td>\n",
       "      <td>4449.46200</td>\n",
       "    </tr>\n",
       "    <tr>\n",
       "      <th>3</th>\n",
       "      <td>33</td>\n",
       "      <td>male</td>\n",
       "      <td>22.705</td>\n",
       "      <td>0</td>\n",
       "      <td>no</td>\n",
       "      <td>northwest</td>\n",
       "      <td>21984.47061</td>\n",
       "    </tr>\n",
       "    <tr>\n",
       "      <th>4</th>\n",
       "      <td>32</td>\n",
       "      <td>male</td>\n",
       "      <td>28.880</td>\n",
       "      <td>0</td>\n",
       "      <td>no</td>\n",
       "      <td>northwest</td>\n",
       "      <td>3866.85520</td>\n",
       "    </tr>\n",
       "  </tbody>\n",
       "</table>\n",
       "</div>"
      ],
      "text/plain": [
       "   age     sex     bmi  children smoker     region      charges\n",
       "0   19  female  27.900         0    yes  southwest  16884.92400\n",
       "1   18    male  33.770         1     no  southeast   1725.55230\n",
       "2   28    male  33.000         3     no  southeast   4449.46200\n",
       "3   33    male  22.705         0     no  northwest  21984.47061\n",
       "4   32    male  28.880         0     no  northwest   3866.85520"
      ]
     },
     "execution_count": 47,
     "metadata": {},
     "output_type": "execute_result"
    }
   ],
   "source": [
    "# Now lets make sure the data looks like we expet it to:\n",
    "linear_data.head()"
   ]
  },
  {
   "cell_type": "code",
   "execution_count": 48,
   "id": "31f1a399-9fd5-4a32-971b-00ec8e2d1fc7",
   "metadata": {},
   "outputs": [
    {
     "name": "stdout",
     "output_type": "stream",
     "text": [
      "<class 'pandas.core.frame.DataFrame'>\n",
      "RangeIndex: 1338 entries, 0 to 1337\n",
      "Data columns (total 7 columns):\n",
      " #   Column    Non-Null Count  Dtype  \n",
      "---  ------    --------------  -----  \n",
      " 0   age       1338 non-null   int64  \n",
      " 1   sex       1338 non-null   object \n",
      " 2   bmi       1338 non-null   float64\n",
      " 3   children  1338 non-null   int64  \n",
      " 4   smoker    1338 non-null   object \n",
      " 5   region    1338 non-null   object \n",
      " 6   charges   1338 non-null   float64\n",
      "dtypes: float64(2), int64(2), object(3)\n",
      "memory usage: 73.3+ KB\n"
     ]
    }
   ],
   "source": [
    "# Now lets check to see what types of data we are working with and if any of the columns have NaN values:\n",
    "linear_data.info()"
   ]
  },
  {
   "cell_type": "code",
   "execution_count": 49,
   "id": "3d3f4d06-1ae2-4ec6-94a4-f2e74033ef38",
   "metadata": {},
   "outputs": [
    {
     "data": {
      "text/plain": [
       "age         0\n",
       "sex         0\n",
       "bmi         0\n",
       "children    0\n",
       "smoker      0\n",
       "region      0\n",
       "charges     0\n",
       "dtype: int64"
      ]
     },
     "execution_count": 49,
     "metadata": {},
     "output_type": "execute_result"
    }
   ],
   "source": [
    "# Check to see if we have any NaN values in our dataframe:\n",
    "linear_data.isna().sum()"
   ]
  },
  {
   "cell_type": "code",
   "execution_count": 50,
   "id": "f0aa5202-c71c-4859-b839-159f3fb26e92",
   "metadata": {},
   "outputs": [
    {
     "data": {
      "text/html": [
       "<div>\n",
       "<style scoped>\n",
       "    .dataframe tbody tr th:only-of-type {\n",
       "        vertical-align: middle;\n",
       "    }\n",
       "\n",
       "    .dataframe tbody tr th {\n",
       "        vertical-align: top;\n",
       "    }\n",
       "\n",
       "    .dataframe thead th {\n",
       "        text-align: right;\n",
       "    }\n",
       "</style>\n",
       "<table border=\"1\" class=\"dataframe\">\n",
       "  <thead>\n",
       "    <tr style=\"text-align: right;\">\n",
       "      <th></th>\n",
       "      <th>age</th>\n",
       "      <th>bmi</th>\n",
       "      <th>children</th>\n",
       "      <th>charges</th>\n",
       "    </tr>\n",
       "  </thead>\n",
       "  <tbody>\n",
       "    <tr>\n",
       "      <th>count</th>\n",
       "      <td>1338.000000</td>\n",
       "      <td>1338.000000</td>\n",
       "      <td>1338.000000</td>\n",
       "      <td>1338.000000</td>\n",
       "    </tr>\n",
       "    <tr>\n",
       "      <th>mean</th>\n",
       "      <td>39.207025</td>\n",
       "      <td>30.663397</td>\n",
       "      <td>1.094918</td>\n",
       "      <td>13270.422265</td>\n",
       "    </tr>\n",
       "    <tr>\n",
       "      <th>std</th>\n",
       "      <td>14.049960</td>\n",
       "      <td>6.098187</td>\n",
       "      <td>1.205493</td>\n",
       "      <td>12110.011237</td>\n",
       "    </tr>\n",
       "    <tr>\n",
       "      <th>min</th>\n",
       "      <td>18.000000</td>\n",
       "      <td>15.960000</td>\n",
       "      <td>0.000000</td>\n",
       "      <td>1121.873900</td>\n",
       "    </tr>\n",
       "    <tr>\n",
       "      <th>25%</th>\n",
       "      <td>27.000000</td>\n",
       "      <td>26.296250</td>\n",
       "      <td>0.000000</td>\n",
       "      <td>4740.287150</td>\n",
       "    </tr>\n",
       "    <tr>\n",
       "      <th>50%</th>\n",
       "      <td>39.000000</td>\n",
       "      <td>30.400000</td>\n",
       "      <td>1.000000</td>\n",
       "      <td>9382.033000</td>\n",
       "    </tr>\n",
       "    <tr>\n",
       "      <th>75%</th>\n",
       "      <td>51.000000</td>\n",
       "      <td>34.693750</td>\n",
       "      <td>2.000000</td>\n",
       "      <td>16639.912515</td>\n",
       "    </tr>\n",
       "    <tr>\n",
       "      <th>max</th>\n",
       "      <td>64.000000</td>\n",
       "      <td>53.130000</td>\n",
       "      <td>5.000000</td>\n",
       "      <td>63770.428010</td>\n",
       "    </tr>\n",
       "  </tbody>\n",
       "</table>\n",
       "</div>"
      ],
      "text/plain": [
       "               age          bmi     children       charges\n",
       "count  1338.000000  1338.000000  1338.000000   1338.000000\n",
       "mean     39.207025    30.663397     1.094918  13270.422265\n",
       "std      14.049960     6.098187     1.205493  12110.011237\n",
       "min      18.000000    15.960000     0.000000   1121.873900\n",
       "25%      27.000000    26.296250     0.000000   4740.287150\n",
       "50%      39.000000    30.400000     1.000000   9382.033000\n",
       "75%      51.000000    34.693750     2.000000  16639.912515\n",
       "max      64.000000    53.130000     5.000000  63770.428010"
      ]
     },
     "execution_count": 50,
     "metadata": {},
     "output_type": "execute_result"
    }
   ],
   "source": [
    "# describe is a useful method for viewing which of your features are numeric:\n",
    "linear_data.describe()"
   ]
  },
  {
   "cell_type": "code",
   "execution_count": 51,
   "id": "108fac0c-9648-44ef-af12-2ea2e8efa066",
   "metadata": {},
   "outputs": [],
   "source": [
    "# From exploring the data I can see that we do not have any NaN values to worry about. \n",
    "# But we do have some categorical features in the data that we need to one hot encode:"
   ]
  },
  {
   "cell_type": "markdown",
   "id": "94be9613-8407-499c-9986-e99001487245",
   "metadata": {},
   "source": [
    "Which features do we need to one hot encode? The features taht are type \"object\". For this dataset this includes:\n",
    "- sex\n",
    "- smoker\n",
    "- region\n",
    "\n",
    "The target variable for this dataset will be \"charges\" as this is what we will want to predict."
   ]
  },
  {
   "cell_type": "code",
   "execution_count": 52,
   "id": "26209add-b5ef-4496-82da-1fb97bbd21a9",
   "metadata": {},
   "outputs": [
    {
     "data": {
      "text/plain": [
       "age  sex     bmi     children  smoker  region     charges    \n",
       "19   male    30.590  0         no      northwest  1639.56310     2\n",
       "47   male    29.830  3         no      northwest  9620.33070     1\n",
       "48   female  25.850  3         yes     southeast  24180.93350    1\n",
       "             22.800  0         no      southwest  8269.04400     1\n",
       "47   male    47.520  1         no      southeast  8083.91980     1\n",
       "                                                                ..\n",
       "31   female  25.740  0         no      southeast  3756.62160     1\n",
       "             23.600  2         no      southwest  4931.64700     1\n",
       "             21.755  0         no      northwest  4134.08245     1\n",
       "30   male    44.220  2         no      southeast  4266.16580     1\n",
       "64   male    40.480  0         no      southeast  13831.11520    1\n",
       "Name: count, Length: 1337, dtype: int64"
      ]
     },
     "execution_count": 52,
     "metadata": {},
     "output_type": "execute_result"
    }
   ],
   "source": [
    "linear_data.value_counts()"
   ]
  },
  {
   "cell_type": "markdown",
   "id": "499b67ed-6fe6-43d1-95a1-10489d30f508",
   "metadata": {},
   "source": [
    "## One hot encoding"
   ]
  },
  {
   "cell_type": "code",
   "execution_count": 53,
   "id": "abb9e918-987b-479a-a493-3630e60dd768",
   "metadata": {},
   "outputs": [],
   "source": [
    "# One hot encoding, creating my own version of a one hot encoding function\n",
    "\n",
    "def one_hot_encode(df_name, list_of_cols):\n",
    "    test_linear_data = df_name.copy()\n",
    "    \n",
    "    for col in list_of_cols:\n",
    "        dummies = pd.get_dummies(\n",
    "            data= df_name[col],\n",
    "            prefix= f\"{col} = \"\n",
    "        )\n",
    "        test_linear_data = pd.concat([test_linear_data, dummies], axis=1)\n",
    "        test_linear_data.drop([col], axis=1, inplace=True)\n",
    "    \n",
    "    return test_linear_data"
   ]
  },
  {
   "cell_type": "code",
   "execution_count": 54,
   "id": "a655606a-be2b-40c2-87ab-6f45961d95a8",
   "metadata": {},
   "outputs": [],
   "source": [
    "linear_data_OHE = one_hot_encode(linear_data, [\"sex\", \"smoker\", \"region\"])"
   ]
  },
  {
   "cell_type": "code",
   "execution_count": 55,
   "id": "b8c41741-b92f-405e-a4b6-9e852d22d2a9",
   "metadata": {},
   "outputs": [
    {
     "data": {
      "text/html": [
       "<div>\n",
       "<style scoped>\n",
       "    .dataframe tbody tr th:only-of-type {\n",
       "        vertical-align: middle;\n",
       "    }\n",
       "\n",
       "    .dataframe tbody tr th {\n",
       "        vertical-align: top;\n",
       "    }\n",
       "\n",
       "    .dataframe thead th {\n",
       "        text-align: right;\n",
       "    }\n",
       "</style>\n",
       "<table border=\"1\" class=\"dataframe\">\n",
       "  <thead>\n",
       "    <tr style=\"text-align: right;\">\n",
       "      <th></th>\n",
       "      <th>age</th>\n",
       "      <th>bmi</th>\n",
       "      <th>children</th>\n",
       "      <th>charges</th>\n",
       "      <th>sex = _female</th>\n",
       "      <th>sex = _male</th>\n",
       "      <th>smoker = _no</th>\n",
       "      <th>smoker = _yes</th>\n",
       "      <th>region = _northeast</th>\n",
       "      <th>region = _northwest</th>\n",
       "      <th>region = _southeast</th>\n",
       "      <th>region = _southwest</th>\n",
       "    </tr>\n",
       "  </thead>\n",
       "  <tbody>\n",
       "    <tr>\n",
       "      <th>0</th>\n",
       "      <td>19</td>\n",
       "      <td>27.900</td>\n",
       "      <td>0</td>\n",
       "      <td>16884.92400</td>\n",
       "      <td>True</td>\n",
       "      <td>False</td>\n",
       "      <td>False</td>\n",
       "      <td>True</td>\n",
       "      <td>False</td>\n",
       "      <td>False</td>\n",
       "      <td>False</td>\n",
       "      <td>True</td>\n",
       "    </tr>\n",
       "    <tr>\n",
       "      <th>1</th>\n",
       "      <td>18</td>\n",
       "      <td>33.770</td>\n",
       "      <td>1</td>\n",
       "      <td>1725.55230</td>\n",
       "      <td>False</td>\n",
       "      <td>True</td>\n",
       "      <td>True</td>\n",
       "      <td>False</td>\n",
       "      <td>False</td>\n",
       "      <td>False</td>\n",
       "      <td>True</td>\n",
       "      <td>False</td>\n",
       "    </tr>\n",
       "    <tr>\n",
       "      <th>2</th>\n",
       "      <td>28</td>\n",
       "      <td>33.000</td>\n",
       "      <td>3</td>\n",
       "      <td>4449.46200</td>\n",
       "      <td>False</td>\n",
       "      <td>True</td>\n",
       "      <td>True</td>\n",
       "      <td>False</td>\n",
       "      <td>False</td>\n",
       "      <td>False</td>\n",
       "      <td>True</td>\n",
       "      <td>False</td>\n",
       "    </tr>\n",
       "    <tr>\n",
       "      <th>3</th>\n",
       "      <td>33</td>\n",
       "      <td>22.705</td>\n",
       "      <td>0</td>\n",
       "      <td>21984.47061</td>\n",
       "      <td>False</td>\n",
       "      <td>True</td>\n",
       "      <td>True</td>\n",
       "      <td>False</td>\n",
       "      <td>False</td>\n",
       "      <td>True</td>\n",
       "      <td>False</td>\n",
       "      <td>False</td>\n",
       "    </tr>\n",
       "    <tr>\n",
       "      <th>4</th>\n",
       "      <td>32</td>\n",
       "      <td>28.880</td>\n",
       "      <td>0</td>\n",
       "      <td>3866.85520</td>\n",
       "      <td>False</td>\n",
       "      <td>True</td>\n",
       "      <td>True</td>\n",
       "      <td>False</td>\n",
       "      <td>False</td>\n",
       "      <td>True</td>\n",
       "      <td>False</td>\n",
       "      <td>False</td>\n",
       "    </tr>\n",
       "  </tbody>\n",
       "</table>\n",
       "</div>"
      ],
      "text/plain": [
       "   age     bmi  children      charges  sex = _female  sex = _male  \\\n",
       "0   19  27.900         0  16884.92400           True        False   \n",
       "1   18  33.770         1   1725.55230          False         True   \n",
       "2   28  33.000         3   4449.46200          False         True   \n",
       "3   33  22.705         0  21984.47061          False         True   \n",
       "4   32  28.880         0   3866.85520          False         True   \n",
       "\n",
       "   smoker = _no  smoker = _yes  region = _northeast  region = _northwest  \\\n",
       "0         False           True                False                False   \n",
       "1          True          False                False                False   \n",
       "2          True          False                False                False   \n",
       "3          True          False                False                 True   \n",
       "4          True          False                False                 True   \n",
       "\n",
       "   region = _southeast  region = _southwest  \n",
       "0                False                 True  \n",
       "1                 True                False  \n",
       "2                 True                False  \n",
       "3                False                False  \n",
       "4                False                False  "
      ]
     },
     "execution_count": 55,
     "metadata": {},
     "output_type": "execute_result"
    }
   ],
   "source": [
    "linear_data_OHE.head()"
   ]
  },
  {
   "cell_type": "code",
   "execution_count": 56,
   "id": "9b4526b2-f3ed-47ed-a27e-c32a22c2561b",
   "metadata": {},
   "outputs": [
    {
     "data": {
      "text/plain": [
       "(1338, 12)"
      ]
     },
     "execution_count": 56,
     "metadata": {},
     "output_type": "execute_result"
    }
   ],
   "source": [
    "linear_data_OHE.shape"
   ]
  },
  {
   "cell_type": "code",
   "execution_count": 57,
   "id": "dbea2679-7499-4346-a2c6-79c385fd1848",
   "metadata": {},
   "outputs": [
    {
     "data": {
      "text/html": [
       "<div>\n",
       "<style scoped>\n",
       "    .dataframe tbody tr th:only-of-type {\n",
       "        vertical-align: middle;\n",
       "    }\n",
       "\n",
       "    .dataframe tbody tr th {\n",
       "        vertical-align: top;\n",
       "    }\n",
       "\n",
       "    .dataframe thead th {\n",
       "        text-align: right;\n",
       "    }\n",
       "</style>\n",
       "<table border=\"1\" class=\"dataframe\">\n",
       "  <thead>\n",
       "    <tr style=\"text-align: right;\">\n",
       "      <th></th>\n",
       "      <th>age</th>\n",
       "      <th>bmi</th>\n",
       "      <th>children</th>\n",
       "      <th>charges</th>\n",
       "      <th>sex_female</th>\n",
       "      <th>sex_male</th>\n",
       "      <th>smoker_no</th>\n",
       "      <th>smoker_yes</th>\n",
       "      <th>region_northeast</th>\n",
       "      <th>region_northwest</th>\n",
       "      <th>region_southeast</th>\n",
       "      <th>region_southwest</th>\n",
       "    </tr>\n",
       "  </thead>\n",
       "  <tbody>\n",
       "    <tr>\n",
       "      <th>0</th>\n",
       "      <td>19</td>\n",
       "      <td>27.900</td>\n",
       "      <td>0</td>\n",
       "      <td>16884.92400</td>\n",
       "      <td>True</td>\n",
       "      <td>False</td>\n",
       "      <td>False</td>\n",
       "      <td>True</td>\n",
       "      <td>False</td>\n",
       "      <td>False</td>\n",
       "      <td>False</td>\n",
       "      <td>True</td>\n",
       "    </tr>\n",
       "    <tr>\n",
       "      <th>1</th>\n",
       "      <td>18</td>\n",
       "      <td>33.770</td>\n",
       "      <td>1</td>\n",
       "      <td>1725.55230</td>\n",
       "      <td>False</td>\n",
       "      <td>True</td>\n",
       "      <td>True</td>\n",
       "      <td>False</td>\n",
       "      <td>False</td>\n",
       "      <td>False</td>\n",
       "      <td>True</td>\n",
       "      <td>False</td>\n",
       "    </tr>\n",
       "    <tr>\n",
       "      <th>2</th>\n",
       "      <td>28</td>\n",
       "      <td>33.000</td>\n",
       "      <td>3</td>\n",
       "      <td>4449.46200</td>\n",
       "      <td>False</td>\n",
       "      <td>True</td>\n",
       "      <td>True</td>\n",
       "      <td>False</td>\n",
       "      <td>False</td>\n",
       "      <td>False</td>\n",
       "      <td>True</td>\n",
       "      <td>False</td>\n",
       "    </tr>\n",
       "    <tr>\n",
       "      <th>3</th>\n",
       "      <td>33</td>\n",
       "      <td>22.705</td>\n",
       "      <td>0</td>\n",
       "      <td>21984.47061</td>\n",
       "      <td>False</td>\n",
       "      <td>True</td>\n",
       "      <td>True</td>\n",
       "      <td>False</td>\n",
       "      <td>False</td>\n",
       "      <td>True</td>\n",
       "      <td>False</td>\n",
       "      <td>False</td>\n",
       "    </tr>\n",
       "    <tr>\n",
       "      <th>4</th>\n",
       "      <td>32</td>\n",
       "      <td>28.880</td>\n",
       "      <td>0</td>\n",
       "      <td>3866.85520</td>\n",
       "      <td>False</td>\n",
       "      <td>True</td>\n",
       "      <td>True</td>\n",
       "      <td>False</td>\n",
       "      <td>False</td>\n",
       "      <td>True</td>\n",
       "      <td>False</td>\n",
       "      <td>False</td>\n",
       "    </tr>\n",
       "  </tbody>\n",
       "</table>\n",
       "</div>"
      ],
      "text/plain": [
       "   age     bmi  children      charges  sex_female  sex_male  smoker_no  \\\n",
       "0   19  27.900         0  16884.92400        True     False      False   \n",
       "1   18  33.770         1   1725.55230       False      True       True   \n",
       "2   28  33.000         3   4449.46200       False      True       True   \n",
       "3   33  22.705         0  21984.47061       False      True       True   \n",
       "4   32  28.880         0   3866.85520       False      True       True   \n",
       "\n",
       "   smoker_yes  region_northeast  region_northwest  region_southeast  \\\n",
       "0        True             False             False             False   \n",
       "1       False             False             False              True   \n",
       "2       False             False             False              True   \n",
       "3       False             False              True             False   \n",
       "4       False             False              True             False   \n",
       "\n",
       "   region_southwest  \n",
       "0              True  \n",
       "1             False  \n",
       "2             False  \n",
       "3             False  \n",
       "4             False  "
      ]
     },
     "execution_count": 57,
     "metadata": {},
     "output_type": "execute_result"
    }
   ],
   "source": [
    "# What happens when I use pd.get_dummies on the entire dataframe?\n",
    "dummies = pd.get_dummies(data= linear_data)\n",
    "dummies.head()"
   ]
  },
  {
   "cell_type": "code",
   "execution_count": 58,
   "id": "dc682b76-87f6-45e7-afef-c4046b8e6b7f",
   "metadata": {},
   "outputs": [
    {
     "data": {
      "text/plain": [
       "(1338, 12)"
      ]
     },
     "execution_count": 58,
     "metadata": {},
     "output_type": "execute_result"
    }
   ],
   "source": [
    "dummies.shape"
   ]
  },
  {
   "cell_type": "markdown",
   "id": "2043cb84-7ba4-4c30-9083-d9863f37eefb",
   "metadata": {},
   "source": [
    "### NOTE ON ONE HOT ENCODING: \n",
    "\n",
    "Insead of writing a new function for the one hot encoding step I should just use the existing function pd.get_dummies properly! If I give this function a dataframe it will return a new dataframe which has dummy variables for all the categorical data . it will also drop the original columns for you.\n",
    "\n"
   ]
  },
  {
   "cell_type": "markdown",
   "id": "1f5e31ba-0673-45cb-9e4c-8953d5de3818",
   "metadata": {},
   "source": [
    "## Linear Regression - creating training and testing the model"
   ]
  },
  {
   "cell_type": "code",
   "execution_count": 67,
   "id": "5631ace7-bdab-46ac-aadf-7ab989a01816",
   "metadata": {},
   "outputs": [],
   "source": [
    "from sklearn.linear_model import LinearRegression\n",
    "from sklearn.model_selection import train_test_split"
   ]
  },
  {
   "cell_type": "code",
   "execution_count": 60,
   "id": "1004c443-80f2-4d8b-b320-ea63b9ae360d",
   "metadata": {},
   "outputs": [],
   "source": [
    "# Now that the data is one hot encoded, lets define the feature matrix and target variable:\n",
    "X = linear_data_OHE.drop([\"charges\"], axis=1)\n",
    "y = linear_data_OHE[\"charges\"]"
   ]
  },
  {
   "cell_type": "code",
   "execution_count": 64,
   "id": "3c856fb1-4baf-4710-95e4-9dd475a1e242",
   "metadata": {},
   "outputs": [],
   "source": [
    "### Instantiate the model "
   ]
  },
  {
   "cell_type": "code",
   "execution_count": 65,
   "id": "d68f95b8-07e7-45cd-b59f-e45b3b9eac0e",
   "metadata": {},
   "outputs": [],
   "source": [
    "lr_model = LinearRegression()"
   ]
  },
  {
   "cell_type": "markdown",
   "id": "f4b7a1ef-0a08-4ab8-8e43-95e31db302f9",
   "metadata": {},
   "source": [
    "### Create the train test split"
   ]
  },
  {
   "cell_type": "code",
   "execution_count": 70,
   "id": "3aea6f2d-d8aa-4bb1-b483-a1b48066c99e",
   "metadata": {},
   "outputs": [],
   "source": [
    "X_train, X_test, y_train, y_test = train_test_split(X, y, test_size=0.2, shuffle=True, random_state=42)"
   ]
  },
  {
   "cell_type": "markdown",
   "id": "7116b26e-3352-44da-a129-f386ad7c550b",
   "metadata": {},
   "source": [
    "### Fit the instantiated model to the training data and make predictions!"
   ]
  },
  {
   "cell_type": "code",
   "execution_count": 73,
   "id": "79a13a8c-3d2a-400a-8c94-042d94547b04",
   "metadata": {},
   "outputs": [],
   "source": [
    "lr_model.fit(X_train, y_train)\n",
    "lrmodel_predictions = lr_model.predict(X_test)"
   ]
  },
  {
   "cell_type": "markdown",
   "id": "125538eb-b1fd-4599-be63-dee169bc9c30",
   "metadata": {},
   "source": [
    "### Analyse how the model performed with metrics:"
   ]
  },
  {
   "cell_type": "code",
   "execution_count": 77,
   "id": "9dcc83ec-65c7-4d7e-ba81-69ca56c810cc",
   "metadata": {},
   "outputs": [],
   "source": [
    "from sklearn.metrics import mean_absolute_error, mean_squared_error"
   ]
  },
  {
   "cell_type": "markdown",
   "id": "c5bb1c88-da7f-4df2-92d9-267178552155",
   "metadata": {},
   "source": [
    "#### MAE: Mean Absolute Error"
   ]
  },
  {
   "cell_type": "code",
   "execution_count": 78,
   "id": "aa4c8b4b-d93d-4298-9a23-4e3a9c7f060a",
   "metadata": {},
   "outputs": [
    {
     "data": {
      "text/plain": [
       "4181.194473753645"
      ]
     },
     "execution_count": 78,
     "metadata": {},
     "output_type": "execute_result"
    }
   ],
   "source": [
    "MAE = mean_absolute_error(y_test, lrmodel_predictions)\n",
    "MAE"
   ]
  },
  {
   "cell_type": "markdown",
   "id": "0c153b02-b0ae-4a45-92c8-93711400f67d",
   "metadata": {},
   "source": [
    "#### MSE: Mean Squared Error"
   ]
  },
  {
   "cell_type": "code",
   "execution_count": 79,
   "id": "2a6f97d2-2910-4353-bc7f-269dccab13f5",
   "metadata": {},
   "outputs": [
    {
     "data": {
      "text/plain": [
       "33596915.851361476"
      ]
     },
     "execution_count": 79,
     "metadata": {},
     "output_type": "execute_result"
    }
   ],
   "source": [
    "MSE = mean_squared_error(y_test, lrmodel_predictions)\n",
    "MSE"
   ]
  },
  {
   "cell_type": "markdown",
   "id": "0048025c-1571-4c52-8543-518c8e978187",
   "metadata": {},
   "source": [
    "#### K-folds cross validation. \n",
    "\n",
    "analysing the how our model performs with the test data is great, but it can be tricky to know just how well it is performing. Use cross-validation to explore the variance in error that exists in your model and to explore whether or not your model might be overfitting (high variance!)"
   ]
  },
  {
   "cell_type": "code",
   "execution_count": null,
   "id": "2414ca26-fe09-4b16-af88-0ba43b4c5614",
   "metadata": {},
   "outputs": [],
   "source": []
  }
 ],
 "metadata": {
  "kernelspec": {
   "display_name": "Python 3 (ipykernel)",
   "language": "python",
   "name": "python3"
  },
  "language_info": {
   "codemirror_mode": {
    "name": "ipython",
    "version": 3
   },
   "file_extension": ".py",
   "mimetype": "text/x-python",
   "name": "python",
   "nbconvert_exporter": "python",
   "pygments_lexer": "ipython3",
   "version": "3.11.5"
  }
 },
 "nbformat": 4,
 "nbformat_minor": 5
}
